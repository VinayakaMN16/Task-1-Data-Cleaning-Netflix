{
 "cells": [
  {
   "cell_type": "code",
   "execution_count": 1,
   "id": "7a51fc16",
   "metadata": {},
   "outputs": [],
   "source": [
    "import pandas as pd\n",
    "import numpy as np\n",
    "import re\n",
    "from datetime import datetime"
   ]
  },
  {
   "cell_type": "code",
   "execution_count": 4,
   "id": "916d636b",
   "metadata": {},
   "outputs": [],
   "source": [
    "raw=pd.read_csv(r\"C:\\Users\\user\\Documents\\Intership\\Task 1\\netflix_titles.csv\")\n",
    "df=raw.copy()"
   ]
  },
  {
   "cell_type": "code",
   "execution_count": 6,
   "id": "82efb9da",
   "metadata": {},
   "outputs": [
    {
     "name": "stdout",
     "output_type": "stream",
     "text": [
      "shape: (8807, 12)\n"
     ]
    },
    {
     "data": {
      "text/html": [
       "<div>\n",
       "<style scoped>\n",
       "    .dataframe tbody tr th:only-of-type {\n",
       "        vertical-align: middle;\n",
       "    }\n",
       "\n",
       "    .dataframe tbody tr th {\n",
       "        vertical-align: top;\n",
       "    }\n",
       "\n",
       "    .dataframe thead th {\n",
       "        text-align: right;\n",
       "    }\n",
       "</style>\n",
       "<table border=\"1\" class=\"dataframe\">\n",
       "  <thead>\n",
       "    <tr style=\"text-align: right;\">\n",
       "      <th></th>\n",
       "      <th>show_id</th>\n",
       "      <th>type</th>\n",
       "      <th>title</th>\n",
       "      <th>director</th>\n",
       "      <th>cast</th>\n",
       "      <th>country</th>\n",
       "      <th>date_added</th>\n",
       "      <th>release_year</th>\n",
       "      <th>rating</th>\n",
       "      <th>duration</th>\n",
       "      <th>listed_in</th>\n",
       "      <th>description</th>\n",
       "    </tr>\n",
       "  </thead>\n",
       "  <tbody>\n",
       "    <tr>\n",
       "      <th>0</th>\n",
       "      <td>s1</td>\n",
       "      <td>Movie</td>\n",
       "      <td>Dick Johnson Is Dead</td>\n",
       "      <td>Kirsten Johnson</td>\n",
       "      <td>NaN</td>\n",
       "      <td>United States</td>\n",
       "      <td>September 25, 2021</td>\n",
       "      <td>2020</td>\n",
       "      <td>PG-13</td>\n",
       "      <td>90 min</td>\n",
       "      <td>Documentaries</td>\n",
       "      <td>As her father nears the end of his life, filmm...</td>\n",
       "    </tr>\n",
       "    <tr>\n",
       "      <th>1</th>\n",
       "      <td>s2</td>\n",
       "      <td>TV Show</td>\n",
       "      <td>Blood &amp; Water</td>\n",
       "      <td>NaN</td>\n",
       "      <td>Ama Qamata, Khosi Ngema, Gail Mabalane, Thaban...</td>\n",
       "      <td>South Africa</td>\n",
       "      <td>September 24, 2021</td>\n",
       "      <td>2021</td>\n",
       "      <td>TV-MA</td>\n",
       "      <td>2 Seasons</td>\n",
       "      <td>International TV Shows, TV Dramas, TV Mysteries</td>\n",
       "      <td>After crossing paths at a party, a Cape Town t...</td>\n",
       "    </tr>\n",
       "    <tr>\n",
       "      <th>2</th>\n",
       "      <td>s3</td>\n",
       "      <td>TV Show</td>\n",
       "      <td>Ganglands</td>\n",
       "      <td>Julien Leclercq</td>\n",
       "      <td>Sami Bouajila, Tracy Gotoas, Samuel Jouy, Nabi...</td>\n",
       "      <td>NaN</td>\n",
       "      <td>September 24, 2021</td>\n",
       "      <td>2021</td>\n",
       "      <td>TV-MA</td>\n",
       "      <td>1 Season</td>\n",
       "      <td>Crime TV Shows, International TV Shows, TV Act...</td>\n",
       "      <td>To protect his family from a powerful drug lor...</td>\n",
       "    </tr>\n",
       "  </tbody>\n",
       "</table>\n",
       "</div>"
      ],
      "text/plain": [
       "  show_id     type                 title         director  \\\n",
       "0      s1    Movie  Dick Johnson Is Dead  Kirsten Johnson   \n",
       "1      s2  TV Show         Blood & Water              NaN   \n",
       "2      s3  TV Show             Ganglands  Julien Leclercq   \n",
       "\n",
       "                                                cast        country  \\\n",
       "0                                                NaN  United States   \n",
       "1  Ama Qamata, Khosi Ngema, Gail Mabalane, Thaban...   South Africa   \n",
       "2  Sami Bouajila, Tracy Gotoas, Samuel Jouy, Nabi...            NaN   \n",
       "\n",
       "           date_added  release_year rating   duration  \\\n",
       "0  September 25, 2021          2020  PG-13     90 min   \n",
       "1  September 24, 2021          2021  TV-MA  2 Seasons   \n",
       "2  September 24, 2021          2021  TV-MA   1 Season   \n",
       "\n",
       "                                           listed_in  \\\n",
       "0                                      Documentaries   \n",
       "1    International TV Shows, TV Dramas, TV Mysteries   \n",
       "2  Crime TV Shows, International TV Shows, TV Act...   \n",
       "\n",
       "                                         description  \n",
       "0  As her father nears the end of his life, filmm...  \n",
       "1  After crossing paths at a party, a Cape Town t...  \n",
       "2  To protect his family from a powerful drug lor...  "
      ]
     },
     "metadata": {},
     "output_type": "display_data"
    }
   ],
   "source": [
    "print(\"shape:\",df.shape)\n",
    "display(df.head(3))"
   ]
  },
  {
   "cell_type": "code",
   "execution_count": 7,
   "id": "d460434d",
   "metadata": {},
   "outputs": [
    {
     "name": "stdout",
     "output_type": "stream",
     "text": [
      "<class 'pandas.core.frame.DataFrame'>\n",
      "RangeIndex: 8807 entries, 0 to 8806\n",
      "Data columns (total 12 columns):\n",
      " #   Column        Non-Null Count  Dtype \n",
      "---  ------        --------------  ----- \n",
      " 0   show_id       8807 non-null   object\n",
      " 1   type          8807 non-null   object\n",
      " 2   title         8807 non-null   object\n",
      " 3   director      6173 non-null   object\n",
      " 4   cast          7982 non-null   object\n",
      " 5   country       7976 non-null   object\n",
      " 6   date_added    8797 non-null   object\n",
      " 7   release_year  8807 non-null   int64 \n",
      " 8   rating        8803 non-null   object\n",
      " 9   duration      8804 non-null   object\n",
      " 10  listed_in     8807 non-null   object\n",
      " 11  description   8807 non-null   object\n",
      "dtypes: int64(1), object(11)\n",
      "memory usage: 825.8+ KB\n"
     ]
    },
    {
     "data": {
      "text/plain": [
       "None"
      ]
     },
     "metadata": {},
     "output_type": "display_data"
    }
   ],
   "source": [
    "display(df.info(3))"
   ]
  },
  {
   "cell_type": "code",
   "execution_count": 8,
   "id": "0be2aad2",
   "metadata": {},
   "outputs": [
    {
     "data": {
      "text/plain": [
       "show_id            0\n",
       "type               0\n",
       "title              0\n",
       "director        2634\n",
       "cast             825\n",
       "country          831\n",
       "date_added        10\n",
       "release_year       0\n",
       "rating             4\n",
       "duration           3\n",
       "listed_in          0\n",
       "description        0\n",
       "dtype: int64"
      ]
     },
     "metadata": {},
     "output_type": "display_data"
    }
   ],
   "source": [
    "display(df.isnull().sum())"
   ]
  },
  {
   "cell_type": "markdown",
   "id": "ead83b3b",
   "metadata": {},
   "source": [
    "## Normalize the Column Names"
   ]
  },
  {
   "cell_type": "code",
   "execution_count": 9,
   "id": "14802b0e",
   "metadata": {},
   "outputs": [
    {
     "data": {
      "text/html": [
       "<div>\n",
       "<style scoped>\n",
       "    .dataframe tbody tr th:only-of-type {\n",
       "        vertical-align: middle;\n",
       "    }\n",
       "\n",
       "    .dataframe tbody tr th {\n",
       "        vertical-align: top;\n",
       "    }\n",
       "\n",
       "    .dataframe thead th {\n",
       "        text-align: right;\n",
       "    }\n",
       "</style>\n",
       "<table border=\"1\" class=\"dataframe\">\n",
       "  <thead>\n",
       "    <tr style=\"text-align: right;\">\n",
       "      <th></th>\n",
       "      <th>show_id</th>\n",
       "      <th>type</th>\n",
       "      <th>title</th>\n",
       "      <th>director</th>\n",
       "      <th>cast</th>\n",
       "      <th>country</th>\n",
       "      <th>date_added</th>\n",
       "      <th>release_year</th>\n",
       "      <th>rating</th>\n",
       "      <th>duration</th>\n",
       "      <th>listed_in</th>\n",
       "      <th>description</th>\n",
       "    </tr>\n",
       "  </thead>\n",
       "  <tbody>\n",
       "    <tr>\n",
       "      <th>0</th>\n",
       "      <td>s1</td>\n",
       "      <td>Movie</td>\n",
       "      <td>Dick Johnson Is Dead</td>\n",
       "      <td>Kirsten Johnson</td>\n",
       "      <td>NaN</td>\n",
       "      <td>United States</td>\n",
       "      <td>September 25, 2021</td>\n",
       "      <td>2020</td>\n",
       "      <td>PG-13</td>\n",
       "      <td>90 min</td>\n",
       "      <td>Documentaries</td>\n",
       "      <td>As her father nears the end of his life, filmm...</td>\n",
       "    </tr>\n",
       "    <tr>\n",
       "      <th>1</th>\n",
       "      <td>s2</td>\n",
       "      <td>TV Show</td>\n",
       "      <td>Blood &amp; Water</td>\n",
       "      <td>NaN</td>\n",
       "      <td>Ama Qamata, Khosi Ngema, Gail Mabalane, Thaban...</td>\n",
       "      <td>South Africa</td>\n",
       "      <td>September 24, 2021</td>\n",
       "      <td>2021</td>\n",
       "      <td>TV-MA</td>\n",
       "      <td>2 Seasons</td>\n",
       "      <td>International TV Shows, TV Dramas, TV Mysteries</td>\n",
       "      <td>After crossing paths at a party, a Cape Town t...</td>\n",
       "    </tr>\n",
       "  </tbody>\n",
       "</table>\n",
       "</div>"
      ],
      "text/plain": [
       "  show_id     type                 title         director  \\\n",
       "0      s1    Movie  Dick Johnson Is Dead  Kirsten Johnson   \n",
       "1      s2  TV Show         Blood & Water              NaN   \n",
       "\n",
       "                                                cast        country  \\\n",
       "0                                                NaN  United States   \n",
       "1  Ama Qamata, Khosi Ngema, Gail Mabalane, Thaban...   South Africa   \n",
       "\n",
       "           date_added  release_year rating   duration  \\\n",
       "0  September 25, 2021          2020  PG-13     90 min   \n",
       "1  September 24, 2021          2021  TV-MA  2 Seasons   \n",
       "\n",
       "                                         listed_in  \\\n",
       "0                                    Documentaries   \n",
       "1  International TV Shows, TV Dramas, TV Mysteries   \n",
       "\n",
       "                                         description  \n",
       "0  As her father nears the end of his life, filmm...  \n",
       "1  After crossing paths at a party, a Cape Town t...  "
      ]
     },
     "execution_count": 9,
     "metadata": {},
     "output_type": "execute_result"
    }
   ],
   "source": [
    "df.columns = df.columns.str.strip().str.lower().str.replace(\" \", \"_\")\n",
    "df.head(2)"
   ]
  },
  {
   "cell_type": "markdown",
   "id": "c9b5a2b1",
   "metadata": {},
   "source": [
    "## Remove Exact Duplicates"
   ]
  },
  {
   "cell_type": "code",
   "execution_count": 10,
   "id": "68bdaa86",
   "metadata": {},
   "outputs": [
    {
     "name": "stdout",
     "output_type": "stream",
     "text": [
      "Exact Duplicates: 0\n",
      "Rpws after removing duplicates: 8807\n"
     ]
    }
   ],
   "source": [
    "orig_row=df.shape[0]\n",
    "dups=df.duplicated().sum()\n",
    "print(\"Exact Duplicates:\",dups)\n",
    "df.drop_duplicates(inplace=True)\n",
    "print(\"Rpws after removing duplicates:\",df.shape[0])"
   ]
  },
  {
   "cell_type": "markdown",
   "id": "90c39031",
   "metadata": {},
   "source": [
    "## Tidy date Column"
   ]
  },
  {
   "cell_type": "code",
   "execution_count": 15,
   "id": "e59e8ed7",
   "metadata": {},
   "outputs": [],
   "source": [
    "df['date_added']=pd.to_datetime(df['date_added'], errors='coerce')\n",
    "\n",
    "df['release_year']=pd.to_numeric(df['release_year'], errors='coerce').astype('Int64')\n",
    "df['date_added']=df['date_added'].fillna(pd.to_datetime(df['release_year'].astype(str)+'-01-01', errors='coerce'))\n",
    "\n",
    "\n",
    "df['added_year']=df['date_added'].dt.year\n",
    "df['added_month']=df['date_added'].dt.month\n"
   ]
  },
  {
   "cell_type": "markdown",
   "id": "1f96e183",
   "metadata": {},
   "source": [
    "## Standardize categorical text (type, rating, listed_in)"
   ]
  },
  {
   "cell_type": "code",
   "execution_count": 17,
   "id": "7dac2689",
   "metadata": {},
   "outputs": [],
   "source": [
    "df['type']=df['type'].str.strip().str.title()\n",
    "df['type']=df['type'].replace({'Tv Show':'TV Show'})\n",
    "\n",
    "df['rating'] = df['rating'].str.strip().replace('', np.nan)\n",
    "df['rating'] = df['rating'].fillna('Not Rated')\n",
    "\n",
    "\n",
    "df['listed_in'] = df['listed_in'].astype(str).apply(lambda x: [g.strip() for g in x.split(',')])\n",
    "df['primary_genre'] = df['listed_in'].apply(lambda x: x[0] if x else None)"
   ]
  },
  {
   "cell_type": "markdown",
   "id": "edff9a84",
   "metadata": {},
   "source": [
    "## Parse & standardize duration (minutes vs seasons)"
   ]
  },
  {
   "cell_type": "code",
   "execution_count": 18,
   "id": "ce8c90ab",
   "metadata": {},
   "outputs": [],
   "source": [
    "def parse_duration(x):\n",
    "    if pd.isna(x):\n",
    "        return pd.Series({'duration_int': pd.NA, 'duration_type': pd.NA})\n",
    "    x = str(x).strip()\n",
    "    m = re.search(r'(\\d+)', x)\n",
    "    if not m:\n",
    "        return pd.Series({'duration_int': pd.NA, 'duration_type': pd.NA})\n",
    "    val = int(m.group(1))\n",
    "    if 'season' in x.lower():\n",
    "        return pd.Series({'duration_int': val, 'duration_type': 'seasons'})\n",
    "    else:\n",
    "        return pd.Series({'duration_int': val, 'duration_type': 'minutes'})\n",
    "\n",
    "df[['duration_int', 'duration_type']] = df['duration'].apply(parse_duration)\n",
    "df['duration_int'] = df['duration_int'].astype('Int64')"
   ]
  },
  {
   "cell_type": "markdown",
   "id": "4591ef5f",
   "metadata": {},
   "source": [
    "## Handle country, director, cast missingness & structure"
   ]
  },
  {
   "cell_type": "code",
   "execution_count": 19,
   "id": "bfb6f270",
   "metadata": {},
   "outputs": [],
   "source": [
    "df['country'] = df['country'].astype(str).replace('nan','')\n",
    "df['country_list'] = df['country'].apply(lambda x: [c.strip() for c in x.split(',')] if x and x.strip() else [])\n",
    "df['primary_country'] = df['country_list'].apply(lambda lst: lst[0] if lst else 'Unknown')\n",
    "\n",
    "df['director'] = df['director'].fillna('Unknown')\n",
    "\n",
    "df['cast'] = df['cast'].fillna('')\n",
    "df['cast_list'] = df['cast'].apply(lambda x: [c.strip() for c in x.split(',')] if x else [])\n",
    "df['num_cast'] = df['cast_list'].apply(len)"
   ]
  },
  {
   "cell_type": "markdown",
   "id": "d499468d",
   "metadata": {},
   "source": [
    "## Clean text fields (title, description)"
   ]
  },
  {
   "cell_type": "code",
   "execution_count": 21,
   "id": "d3215878",
   "metadata": {},
   "outputs": [],
   "source": [
    "df['title'] = df['title'].str.strip()\n",
    "\n",
    "df['description'] = df['description'].astype(str).str.replace(r'\\s+', ' ', regex=True).str.strip()"
   ]
  },
  {
   "cell_type": "markdown",
   "id": "a3133018",
   "metadata": {},
   "source": [
    "## Convert datatypes & final dtype checks"
   ]
  },
  {
   "cell_type": "code",
   "execution_count": 23,
   "id": "3e09142c",
   "metadata": {},
   "outputs": [
    {
     "data": {
      "text/plain": [
       "show_id                    object\n",
       "type                       object\n",
       "title                      object\n",
       "director                   object\n",
       "cast                       object\n",
       "country                    object\n",
       "date_added         datetime64[ns]\n",
       "release_year                Int64\n",
       "rating                     object\n",
       "duration                   object\n",
       "listed_in                  object\n",
       "description                object\n",
       "added_year                  int32\n",
       "added_month                 int32\n",
       "primary_genre              object\n",
       "duration_int                Int64\n",
       "duration_type              object\n",
       "country_list               object\n",
       "primary_country            object\n",
       "cast_list                  object\n",
       "num_cast                    int64\n",
       "dtype: object"
      ]
     },
     "metadata": {},
     "output_type": "display_data"
    },
    {
     "data": {
      "text/plain": [
       "show_id            0\n",
       "type               0\n",
       "title              0\n",
       "director           0\n",
       "cast               0\n",
       "country            0\n",
       "date_added         0\n",
       "release_year       0\n",
       "rating             0\n",
       "duration           3\n",
       "listed_in          0\n",
       "description        0\n",
       "added_year         0\n",
       "added_month        0\n",
       "primary_genre      0\n",
       "duration_int       3\n",
       "duration_type      3\n",
       "country_list       0\n",
       "primary_country    0\n",
       "cast_list          0\n",
       "num_cast           0\n",
       "dtype: int64"
      ]
     },
     "metadata": {},
     "output_type": "display_data"
    }
   ],
   "source": [
    "df['release_year'] = pd.to_numeric(df['release_year'], errors='coerce').astype('Int64')\n",
    "\n",
    "display(df.dtypes)\n",
    "display(df.isnull().sum())"
   ]
  },
  {
   "cell_type": "markdown",
   "id": "4ceff7b0",
   "metadata": {},
   "source": [
    "## Remove duplicate titles (fuzzy / subset duplicates)"
   ]
  },
  {
   "cell_type": "code",
   "execution_count": 25,
   "id": "329a2f00",
   "metadata": {},
   "outputs": [
    {
     "name": "stdout",
     "output_type": "stream",
     "text": [
      "duplicates by title/type/year: 0\n"
     ]
    }
   ],
   "source": [
    "dup_subset = df.duplicated(subset=['title', 'type', 'release_year']).sum()\n",
    "print(\"duplicates by title/type/year:\", dup_subset)\n",
    "df = df.drop_duplicates(subset=['title', 'type', 'release_year'], keep='first')\n"
   ]
  },
  {
   "cell_type": "markdown",
   "id": "d460b25e",
   "metadata": {},
   "source": [
    "## Re-check Dataset"
   ]
  },
  {
   "cell_type": "code",
   "execution_count": 27,
   "id": "d2df31cc",
   "metadata": {},
   "outputs": [
    {
     "name": "stdout",
     "output_type": "stream",
     "text": [
      "original rows: 8807  final rows: 8806\n"
     ]
    },
    {
     "data": {
      "text/plain": [
       "show_id            0\n",
       "type               0\n",
       "title              0\n",
       "director           0\n",
       "cast               0\n",
       "country            0\n",
       "date_added         0\n",
       "release_year       0\n",
       "rating             0\n",
       "duration           3\n",
       "listed_in          0\n",
       "description        0\n",
       "added_year         0\n",
       "added_month        0\n",
       "primary_genre      0\n",
       "duration_int       3\n",
       "duration_type      3\n",
       "country_list       0\n",
       "primary_country    0\n",
       "cast_list          0\n",
       "num_cast           0\n",
       "dtype: int64"
      ]
     },
     "metadata": {},
     "output_type": "display_data"
    }
   ],
   "source": [
    "final_rows = df.shape[0]\n",
    "print(\"original rows:\", orig_row, \" final rows:\", final_rows)\n",
    "display(df.isnull().sum())"
   ]
  },
  {
   "cell_type": "markdown",
   "id": "d0b65047",
   "metadata": {},
   "source": [
    "## Export cleaned CSV"
   ]
  },
  {
   "cell_type": "code",
   "execution_count": 36,
   "id": "49d8c4d2",
   "metadata": {},
   "outputs": [],
   "source": [
    "df.to_csv(\"Data/Cleaned_Netflix_dataset.csv\", index=False)"
   ]
  },
  {
   "cell_type": "markdown",
   "id": "618bd316",
   "metadata": {},
   "source": [
    "## Short Summary of Changes"
   ]
  },
  {
   "cell_type": "markdown",
   "id": "62ac9925",
   "metadata": {},
   "source": [
    "1. Rows before / after, duplicates removed (counts).\n",
    "\n",
    "2. Columns that had significant missing values and how you handled them:\n",
    "    1. director: 2634 missing → filled with \"Unknown\"\n",
    "    2. country: 831 missing → set primary_country = 'Unknown' and saved full country_list\n",
    "    3. date_added: 10 missing → filled with Jan 1 of release_year\n",
    "    4. rating: 4 missing → filled with \"Not Rated\"\n",
    "\n",
    "3. New columns added: (duration_int, duration_type, primary_genre, primary_country, num_cast)\n",
    "\n",
    "4. Any rows removed by rule (e.g., exact duplicates or subset duplicates)."
   ]
  }
 ],
 "metadata": {
  "kernelspec": {
   "display_name": "Python 3",
   "language": "python",
   "name": "python3"
  },
  "language_info": {
   "codemirror_mode": {
    "name": "ipython",
    "version": 3
   },
   "file_extension": ".py",
   "mimetype": "text/x-python",
   "name": "python",
   "nbconvert_exporter": "python",
   "pygments_lexer": "ipython3",
   "version": "3.13.6"
  }
 },
 "nbformat": 4,
 "nbformat_minor": 5
}
